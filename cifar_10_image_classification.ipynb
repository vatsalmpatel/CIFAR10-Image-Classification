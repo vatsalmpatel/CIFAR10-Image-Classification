{
 "cells": [
  {
   "cell_type": "code",
   "execution_count": 1,
   "metadata": {},
   "outputs": [
    {
     "name": "stderr",
     "output_type": "stream",
     "text": [
      "C:\\Users\\vatsa\\anaconda3\\envs\\torch\\lib\\site-packages\\tqdm\\auto.py:22: TqdmWarning: IProgress not found. Please update jupyter and ipywidgets. See https://ipywidgets.readthedocs.io/en/stable/user_install.html\n",
      "  from .autonotebook import tqdm as notebook_tqdm\n"
     ]
    }
   ],
   "source": [
    "import torch\n",
    "import torchvision\n",
    "\n",
    "import numpy as np\n",
    "import matplotlib.pyplot as plt\n",
    "\n",
    "import torch.nn as nn\n",
    "import torch.nn.functional as F\n",
    "\n",
    "from torchvision.datasets import CIFAR10\n",
    "from torchvision.transforms import ToTensor\n",
    "from torchvision.utils import make_grid\n",
    "\n",
    "from torch.utils.data.dataloader import DataLoader\n",
    "from torch.utils.data import random_split\n",
    "%matplotlib inline"
   ]
  },
  {
   "cell_type": "code",
   "execution_count": 2,
   "metadata": {},
   "outputs": [
    {
     "data": {
      "text/plain": [
       "False"
      ]
     },
     "execution_count": 2,
     "metadata": {},
     "output_type": "execute_result"
    }
   ],
   "source": [
    "torch.cuda.is_available()"
   ]
  },
  {
   "cell_type": "code",
   "execution_count": 3,
   "metadata": {},
   "outputs": [
    {
     "name": "stdout",
     "output_type": "stream",
     "text": [
      "Files already downloaded and verified\n"
     ]
    }
   ],
   "source": [
    "dataset = CIFAR10(root='data/', download=True, transform=ToTensor())\n",
    "test_dataset = CIFAR10(root='data/', train=False, transform=ToTensor())"
   ]
  },
  {
   "cell_type": "code",
   "execution_count": 4,
   "metadata": {},
   "outputs": [
    {
     "data": {
      "text/plain": [
       "['airplane',\n",
       " 'automobile',\n",
       " 'bird',\n",
       " 'cat',\n",
       " 'deer',\n",
       " 'dog',\n",
       " 'frog',\n",
       " 'horse',\n",
       " 'ship',\n",
       " 'truck']"
      ]
     },
     "execution_count": 4,
     "metadata": {},
     "output_type": "execute_result"
    }
   ],
   "source": [
    "classes = dataset.classes\n",
    "classes"
   ]
  },
  {
   "cell_type": "code",
   "execution_count": 5,
   "metadata": {},
   "outputs": [
    {
     "data": {
      "text/plain": [
       "{'frog': 5000,\n",
       " 'truck': 5000,\n",
       " 'deer': 5000,\n",
       " 'automobile': 5000,\n",
       " 'bird': 5000,\n",
       " 'horse': 5000,\n",
       " 'ship': 5000,\n",
       " 'cat': 5000,\n",
       " 'dog': 5000,\n",
       " 'airplane': 5000}"
      ]
     },
     "execution_count": 5,
     "metadata": {},
     "output_type": "execute_result"
    }
   ],
   "source": [
    "class_count = {}\n",
    "for _, index in dataset:\n",
    "    label = classes[index]\n",
    "    if label not in class_count:\n",
    "        class_count[label] = 0\n",
    "    class_count[label] += 1\n",
    "class_count"
   ]
  },
  {
   "cell_type": "code",
   "execution_count": 6,
   "metadata": {},
   "outputs": [],
   "source": [
    "val_size = 5000\n",
    "train_size = len(dataset) - val_size"
   ]
  },
  {
   "cell_type": "code",
   "execution_count": 7,
   "metadata": {},
   "outputs": [
    {
     "data": {
      "text/plain": [
       "(45000, 5000)"
      ]
     },
     "execution_count": 7,
     "metadata": {},
     "output_type": "execute_result"
    }
   ],
   "source": [
    "train_ds, val_ds = random_split(dataset, [train_size, val_size])\n",
    "len(train_ds), len(val_ds)"
   ]
  },
  {
   "cell_type": "code",
   "execution_count": 8,
   "metadata": {},
   "outputs": [],
   "source": [
    "train_loader = DataLoader(train_ds,128, shuffle=True, pin_memory=True)\n",
    "val_loader = DataLoader(val_ds, 256, pin_memory=True)\n",
    "test_loader = DataLoader(test_dataset, 256, pin_memory=True)"
   ]
  },
  {
   "cell_type": "code",
   "execution_count": 9,
   "metadata": {},
   "outputs": [],
   "source": [
    "images = enumerate(test_loader)\n",
    "idx, (data,label) = next(images)"
   ]
  },
  {
   "cell_type": "code",
   "execution_count": 10,
   "metadata": {},
   "outputs": [
    {
     "data": {
      "text/plain": [
       "(torch.Size([256, 3, 32, 32]), torch.Size([256]))"
      ]
     },
     "execution_count": 10,
     "metadata": {},
     "output_type": "execute_result"
    }
   ],
   "source": [
    "data.shape, label.shape"
   ]
  },
  {
   "cell_type": "code",
   "execution_count": 11,
   "metadata": {},
   "outputs": [],
   "source": [
    "temp_img = data[0].permute((1,2,0))"
   ]
  },
  {
   "cell_type": "code",
   "execution_count": 12,
   "metadata": {},
   "outputs": [
    {
     "name": "stdout",
     "output_type": "stream",
     "text": [
      "tensor(3)\n"
     ]
    },
    {
     "data": {
      "image/png": "[encoded data removed]",
      "text/plain": [
       "<Figure size 432x288 with 1 Axes>"
      ]
     },
     "metadata": {
      "needs_background": "light"
     },
     "output_type": "display_data"
    }
   ],
   "source": [
    "plt.imshow(temp_img)\n",
    "print(label[0])"
   ]
  },
  {
   "cell_type": "code",
   "execution_count": 13,
   "metadata": {},
   "outputs": [],
   "source": [
    "def accuracy(outputs, labels):\n",
    "    _, preds = torch.max(outputs, dim=1)\n",
    "    return torch.tensor(torch.sum(preds == labels).item() / len(preds))"
   ]
  },
  {
   "cell_type": "code",
   "execution_count": 14,
   "metadata": {},
   "outputs": [],
   "source": [
    "class ImageClassificationBase(nn.Module):\n",
    "    def training_step(self, batch):\n",
    "        images, labels = batch \n",
    "        out = self(images)            \n",
    "        loss = F.cross_entropy(out, labels) \n",
    "        return loss\n",
    "    \n",
    "    def validation_step(self, batch):\n",
    "        images, labels = batch \n",
    "        out = self(images)              \n",
    "        loss = F.cross_entropy(out, labels) \n",
    "        acc = accuracy(out, labels) \n",
    "        return {'val_loss': loss.detach(), 'val_acc': acc}\n",
    "        \n",
    "    def validation_epoch_end(self, outputs):\n",
    "        batch_losses = [x['val_loss'] for x in outputs]\n",
    "        epoch_loss = torch.stack(batch_losses).mean() \n",
    "        batch_accs = [x['val_acc'] for x in outputs]\n",
    "        epoch_acc = torch.stack(batch_accs).mean() \n",
    "        return {'val_loss': epoch_loss.item(), 'val_acc': epoch_acc.item()}\n",
    "    \n",
    "    def epoch_end(self, epoch, result):\n",
    "        print(\"Epoch [{}], val_loss: {:.4f}, val_acc: {:.4f}\".format(epoch, result['val_loss'], result['val_acc']))"
   ]
  },
  {
   "cell_type": "code",
   "execution_count": 15,
   "metadata": {},
   "outputs": [],
   "source": [
    "def evaluate(model, val_loader):\n",
    "    outputs = [model.validation_step(batch) for batch in val_loader]\n",
    "    return model.validation_epoch_end(outputs)\n",
    "\n",
    "def fit(epochs, lr, model, train_loader, val_loader, opt_func=torch.optim.SGD):\n",
    "    history = []\n",
    "    optimizer = opt_func(model.parameters(), lr)\n",
    "    for epoch in range(epochs):\n",
    "        for batch in train_loader:\n",
    "            loss = model.training_step(batch)\n",
    "            loss.backward()\n",
    "            optimizer.step()\n",
    "            optimizer.zero_grad()\n",
    "        result = evaluate(model, val_loader)\n",
    "        model.epoch_end(epoch, result)\n",
    "        history.append(result)\n",
    "    return history"
   ]
  },
  {
   "cell_type": "code",
   "execution_count": 16,
   "metadata": {},
   "outputs": [],
   "source": [
    "def get_default_device():\n",
    "    if torch.cuda.is_available():\n",
    "        return torch.device('cuda')\n",
    "    else:\n",
    "        return torch.device('cpu')"
   ]
  },
  {
   "cell_type": "code",
   "execution_count": 17,
   "metadata": {},
   "outputs": [],
   "source": [
    "device = get_default_device()"
   ]
  },
  {
   "cell_type": "code",
   "execution_count": 18,
   "metadata": {},
   "outputs": [
    {
     "data": {
      "text/plain": [
       "device(type='cpu')"
      ]
     },
     "execution_count": 18,
     "metadata": {},
     "output_type": "execute_result"
    }
   ],
   "source": [
    "device"
   ]
  },
  {
   "cell_type": "code",
   "execution_count": 19,
   "metadata": {},
   "outputs": [],
   "source": [
    "def to_device(data, device):\n",
    "    if isinstance(data, (list,tuple)):\n",
    "        return [to_device(x, device) for x in data]\n",
    "    return data.to(device, non_blocking=True)\n",
    "\n",
    "class DeviceDataLoader():\n",
    "    def __init__(self, dl, device):\n",
    "        self.dl = dl\n",
    "        self.device = device\n",
    "        \n",
    "    def __iter__(self):\n",
    "        for b in self.dl: \n",
    "            yield to_device(b, self.device)\n",
    "\n",
    "    def __len__(self):\n",
    "        return len(self.dl)"
   ]
  },
  {
   "cell_type": "code",
   "execution_count": 20,
   "metadata": {},
   "outputs": [],
   "source": [
    "def plot_losses(history):\n",
    "    losses = [x['val_loss'] for x in history]\n",
    "    plt.plot(losses, '-x')\n",
    "    plt.xlabel('epoch')\n",
    "    plt.ylabel('loss')\n",
    "    plt.title('Loss vs. No. of epochs');"
   ]
  },
  {
   "cell_type": "code",
   "execution_count": 21,
   "metadata": {},
   "outputs": [],
   "source": [
    "def plot_accuracies(history):\n",
    "    accuracies = [x['val_acc'] for x in history]\n",
    "    plt.plot(accuracies, '-x')\n",
    "    plt.xlabel('epoch')\n",
    "    plt.ylabel('accuracy')\n",
    "    plt.title('Accuracy vs. No. of epochs');"
   ]
  },
  {
   "cell_type": "code",
   "execution_count": 22,
   "metadata": {},
   "outputs": [],
   "source": [
    "train_loader = DeviceDataLoader(train_loader, device)\n",
    "val_loader = DeviceDataLoader(val_loader, device)\n",
    "test_loader = DeviceDataLoader(test_loader, device)"
   ]
  },
  {
   "cell_type": "code",
   "execution_count": 23,
   "metadata": {},
   "outputs": [],
   "source": [
    "class CIFAR10Model(ImageClassificationBase):\n",
    "    def __init__(self):\n",
    "        super().__init__()\n",
    "        self.linear1 = nn.Linear(3*32*32, 256)\n",
    "        self.linear2 = nn.Linear(256, 256)\n",
    "        self.linear3 = nn.Linear(256, 256)\n",
    "        self.linear4 = nn.Linear(256, 128)\n",
    "        self.linear5 = nn.Linear(128, 10)\n",
    "        \n",
    "    def forward(self, xb):\n",
    "        x = xb.view(xb.size(0), -1)\n",
    "        x = self.linear1(x)\n",
    "        x = F.relu(x)\n",
    "        x = self.linear2(x)\n",
    "        x = F.relu(x)\n",
    "        x = self.linear3(x)\n",
    "        x = F.relu(x)\n",
    "        x = self.linear4(x)\n",
    "        x = F.relu(x)\n",
    "        x = self.linear5(x)\n",
    "        return x"
   ]
  },
  {
   "cell_type": "code",
   "execution_count": 24,
   "metadata": {},
   "outputs": [],
   "source": [
    "model = to_device(CIFAR10Model(), device)"
   ]
  },
  {
   "cell_type": "code",
   "execution_count": 25,
   "metadata": {},
   "outputs": [
    {
     "data": {
      "text/plain": [
       "CIFAR10Model(\n",
       "  (linear1): Linear(in_features=3072, out_features=256, bias=True)\n",
       "  (linear2): Linear(in_features=256, out_features=256, bias=True)\n",
       "  (linear3): Linear(in_features=256, out_features=256, bias=True)\n",
       "  (linear4): Linear(in_features=256, out_features=128, bias=True)\n",
       "  (linear5): Linear(in_features=128, out_features=10, bias=True)\n",
       ")"
      ]
     },
     "execution_count": 25,
     "metadata": {},
     "output_type": "execute_result"
    }
   ],
   "source": [
    "model"
   ]
  },
  {
   "cell_type": "code",
   "execution_count": 26,
   "metadata": {},
   "outputs": [
    {
     "data": {
      "text/plain": [
       "[{'val_loss': 2.3035316467285156, 'val_acc': 0.10399816185235977}]"
      ]
     },
     "execution_count": 26,
     "metadata": {},
     "output_type": "execute_result"
    }
   ],
   "source": [
    "history = [evaluate(model, val_loader)]\n",
    "history"
   ]
  },
  {
   "cell_type": "code",
   "execution_count": 27,
   "metadata": {},
   "outputs": [
    {
     "name": "stdout",
     "output_type": "stream",
     "text": [
      "Epoch [0], val_loss: 2.2970, val_acc: 0.1269\n",
      "Epoch [1], val_loss: 2.2818, val_acc: 0.1246\n",
      "Epoch [2], val_loss: 2.2081, val_acc: 0.1652\n",
      "Epoch [3], val_loss: 2.0960, val_acc: 0.2268\n",
      "Epoch [4], val_loss: 2.0465, val_acc: 0.2456\n",
      "Epoch [5], val_loss: 1.9873, val_acc: 0.2597\n",
      "Epoch [6], val_loss: 1.9650, val_acc: 0.2712\n",
      "Epoch [7], val_loss: 1.8998, val_acc: 0.3000\n",
      "Epoch [8], val_loss: 1.8775, val_acc: 0.3094\n",
      "Epoch [9], val_loss: 1.8610, val_acc: 0.3272\n",
      "Epoch [10], val_loss: 1.8359, val_acc: 0.3306\n",
      "Epoch [11], val_loss: 1.8284, val_acc: 0.3306\n",
      "Epoch [12], val_loss: 1.7943, val_acc: 0.3500\n",
      "Epoch [13], val_loss: 1.7914, val_acc: 0.3434\n",
      "Epoch [14], val_loss: 1.7857, val_acc: 0.3480\n",
      "Epoch [15], val_loss: 1.7404, val_acc: 0.3698\n",
      "Epoch [16], val_loss: 1.7013, val_acc: 0.3868\n",
      "Epoch [17], val_loss: 1.6914, val_acc: 0.3901\n",
      "Epoch [18], val_loss: 1.6922, val_acc: 0.3796\n",
      "Epoch [19], val_loss: 1.6986, val_acc: 0.3846\n",
      "Epoch [20], val_loss: 1.6637, val_acc: 0.3951\n",
      "Epoch [21], val_loss: 1.6707, val_acc: 0.4037\n",
      "Epoch [22], val_loss: 1.6380, val_acc: 0.4005\n",
      "Epoch [23], val_loss: 1.6851, val_acc: 0.3927\n",
      "Epoch [24], val_loss: 1.6304, val_acc: 0.3988\n",
      "Epoch [25], val_loss: 1.5990, val_acc: 0.4156\n",
      "Epoch [26], val_loss: 1.5792, val_acc: 0.4270\n",
      "Epoch [27], val_loss: 1.6288, val_acc: 0.4189\n",
      "Epoch [28], val_loss: 1.5834, val_acc: 0.4191\n",
      "Epoch [29], val_loss: 1.5616, val_acc: 0.4375\n",
      "Epoch [30], val_loss: 1.5748, val_acc: 0.4320\n",
      "Epoch [31], val_loss: 1.5218, val_acc: 0.4574\n",
      "Epoch [32], val_loss: 1.5826, val_acc: 0.4362\n",
      "Epoch [33], val_loss: 1.5275, val_acc: 0.4540\n",
      "Epoch [34], val_loss: 1.5049, val_acc: 0.4663\n",
      "Epoch [35], val_loss: 1.5823, val_acc: 0.4417\n",
      "Epoch [36], val_loss: 1.5483, val_acc: 0.4432\n",
      "Epoch [37], val_loss: 1.5250, val_acc: 0.4533\n",
      "Epoch [38], val_loss: 1.5303, val_acc: 0.4597\n",
      "Epoch [39], val_loss: 1.5440, val_acc: 0.4524\n",
      "Epoch [40], val_loss: 1.5424, val_acc: 0.4483\n",
      "Epoch [41], val_loss: 1.5104, val_acc: 0.4648\n",
      "Epoch [42], val_loss: 1.5407, val_acc: 0.4512\n",
      "Epoch [43], val_loss: 1.4860, val_acc: 0.4767\n",
      "Epoch [44], val_loss: 1.5837, val_acc: 0.4536\n",
      "Epoch [45], val_loss: 1.5180, val_acc: 0.4578\n",
      "Epoch [46], val_loss: 1.4575, val_acc: 0.4795\n",
      "Epoch [47], val_loss: 1.5141, val_acc: 0.4624\n",
      "Epoch [48], val_loss: 1.4653, val_acc: 0.4869\n",
      "Epoch [49], val_loss: 1.4349, val_acc: 0.4974\n",
      "Epoch [50], val_loss: 1.4371, val_acc: 0.4938\n",
      "Epoch [51], val_loss: 1.4373, val_acc: 0.4957\n",
      "Epoch [52], val_loss: 1.4799, val_acc: 0.4803\n",
      "Epoch [53], val_loss: 1.4277, val_acc: 0.5006\n",
      "Epoch [54], val_loss: 1.4674, val_acc: 0.4894\n",
      "Epoch [55], val_loss: 1.4518, val_acc: 0.4926\n",
      "Epoch [56], val_loss: 1.4215, val_acc: 0.5015\n",
      "Epoch [57], val_loss: 1.4671, val_acc: 0.4826\n",
      "Epoch [58], val_loss: 1.4617, val_acc: 0.4839\n",
      "Epoch [59], val_loss: 1.4271, val_acc: 0.4950\n",
      "Epoch [60], val_loss: 1.4242, val_acc: 0.4974\n",
      "Epoch [61], val_loss: 1.6994, val_acc: 0.4339\n",
      "Epoch [62], val_loss: 1.4405, val_acc: 0.4995\n",
      "Epoch [63], val_loss: 1.5450, val_acc: 0.4746\n",
      "Epoch [64], val_loss: 1.4261, val_acc: 0.5023\n",
      "Epoch [65], val_loss: 1.4878, val_acc: 0.4909\n",
      "Epoch [66], val_loss: 1.5039, val_acc: 0.4792\n",
      "Epoch [67], val_loss: 1.4363, val_acc: 0.4963\n",
      "Epoch [68], val_loss: 1.4974, val_acc: 0.4792\n",
      "Epoch [69], val_loss: 1.3998, val_acc: 0.5113\n",
      "Epoch [70], val_loss: 1.5896, val_acc: 0.4724\n",
      "Epoch [71], val_loss: 1.4076, val_acc: 0.5133\n",
      "Epoch [72], val_loss: 1.4422, val_acc: 0.5037\n",
      "Epoch [73], val_loss: 1.4042, val_acc: 0.5146\n",
      "Epoch [74], val_loss: 1.4996, val_acc: 0.4878\n",
      "Epoch [75], val_loss: 1.4004, val_acc: 0.5188\n",
      "Epoch [76], val_loss: 1.3949, val_acc: 0.5180\n",
      "Epoch [77], val_loss: 1.4975, val_acc: 0.4976\n",
      "Epoch [78], val_loss: 1.4799, val_acc: 0.4968\n",
      "Epoch [79], val_loss: 1.5725, val_acc: 0.4560\n",
      "Epoch [80], val_loss: 1.3761, val_acc: 0.5227\n",
      "Epoch [81], val_loss: 1.4526, val_acc: 0.5055\n",
      "Epoch [82], val_loss: 1.4837, val_acc: 0.4932\n",
      "Epoch [83], val_loss: 1.3764, val_acc: 0.5279\n",
      "Epoch [84], val_loss: 1.4493, val_acc: 0.5171\n",
      "Epoch [85], val_loss: 1.4548, val_acc: 0.5045\n",
      "Epoch [86], val_loss: 1.4453, val_acc: 0.5088\n",
      "Epoch [87], val_loss: 1.4688, val_acc: 0.5067\n",
      "Epoch [88], val_loss: 1.4125, val_acc: 0.5185\n",
      "Epoch [89], val_loss: 1.4228, val_acc: 0.5171\n",
      "Epoch [90], val_loss: 1.3900, val_acc: 0.5267\n",
      "Epoch [91], val_loss: 1.4218, val_acc: 0.5234\n",
      "Epoch [92], val_loss: 1.5027, val_acc: 0.5070\n",
      "Epoch [93], val_loss: 1.5165, val_acc: 0.4939\n",
      "Epoch [94], val_loss: 1.4745, val_acc: 0.5101\n",
      "Epoch [95], val_loss: 1.3934, val_acc: 0.5260\n",
      "Epoch [96], val_loss: 1.5137, val_acc: 0.4955\n",
      "Epoch [97], val_loss: 1.4974, val_acc: 0.5093\n",
      "Epoch [98], val_loss: 1.5929, val_acc: 0.4903\n",
      "Epoch [99], val_loss: 1.4441, val_acc: 0.5216\n"
     ]
    }
   ],
   "source": [
    "history += fit(100, 0.01, model, train_loader, val_loader)"
   ]
  },
  {
   "cell_type": "code",
   "execution_count": 28,
   "metadata": {},
   "outputs": [
    {
     "data": {
      "image/png": "[encoded data removed]",
      "text/plain": [
       "<Figure size 432x288 with 1 Axes>"
      ]
     },
     "metadata": {
      "needs_background": "light"
     },
     "output_type": "display_data"
    }
   ],
   "source": [
    "plot_losses(history)"
   ]
  },
  {
   "cell_type": "code",
   "execution_count": 29,
   "metadata": {},
   "outputs": [
    {
     "data": {
      "image/png": "[encoded data removed]",
      "text/plain": [
       "<Figure size 432x288 with 1 Axes>"
      ]
     },
     "metadata": {
      "needs_background": "light"
     },
     "output_type": "display_data"
    }
   ],
   "source": [
    "plot_accuracies(history)"
   ]
  },
  {
   "cell_type": "code",
   "execution_count": null,
   "metadata": {},
   "outputs": [],
   "source": []
  }
 ],
 "metadata": {
  "kernelspec": {
   "display_name": "Torch",
   "language": "python",
   "name": "torch"
  },
  "language_info": {
   "codemirror_mode": {
    "name": "ipython",
    "version": 3
   },
   "file_extension": ".py",
   "mimetype": "text/x-python",
   "name": "python",
   "nbconvert_exporter": "python",
   "pygments_lexer": "ipython3",
   "version": "3.7.11"
  }
 },
 "nbformat": 4,
 "nbformat_minor": 4
}
